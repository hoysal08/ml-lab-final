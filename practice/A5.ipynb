{
 "cells": [
  {
   "cell_type": "code",
   "execution_count": 3,
   "id": "ca9bd0cf-2033-43df-b70e-acef07bff1c2",
   "metadata": {
    "tags": []
   },
   "outputs": [],
   "source": [
    "import numpy as np\n",
    "import pandas as pd\n",
    "import matplotlib.pylab as plt"
   ]
  },
  {
   "cell_type": "code",
   "execution_count": 5,
   "id": "ccb6d681-fc69-4b31-bfe7-4708474975a7",
   "metadata": {
    "tags": []
   },
   "outputs": [
    {
     "data": {
      "text/html": [
       "<div>\n",
       "<style scoped>\n",
       "    .dataframe tbody tr th:only-of-type {\n",
       "        vertical-align: middle;\n",
       "    }\n",
       "\n",
       "    .dataframe tbody tr th {\n",
       "        vertical-align: top;\n",
       "    }\n",
       "\n",
       "    .dataframe thead th {\n",
       "        text-align: right;\n",
       "    }\n",
       "</style>\n",
       "<table border=\"1\" class=\"dataframe\">\n",
       "  <thead>\n",
       "    <tr style=\"text-align: right;\">\n",
       "      <th></th>\n",
       "      <th>x</th>\n",
       "      <th>y</th>\n",
       "    </tr>\n",
       "  </thead>\n",
       "  <tbody>\n",
       "    <tr>\n",
       "      <th>0</th>\n",
       "      <td>3</td>\n",
       "      <td>1.0</td>\n",
       "    </tr>\n",
       "    <tr>\n",
       "      <th>1</th>\n",
       "      <td>4</td>\n",
       "      <td>3.0</td>\n",
       "    </tr>\n",
       "    <tr>\n",
       "      <th>2</th>\n",
       "      <td>1</td>\n",
       "      <td>5.0</td>\n",
       "    </tr>\n",
       "    <tr>\n",
       "      <th>3</th>\n",
       "      <td>2</td>\n",
       "      <td>4.0</td>\n",
       "    </tr>\n",
       "    <tr>\n",
       "      <th>4</th>\n",
       "      <td>4</td>\n",
       "      <td>2.0</td>\n",
       "    </tr>\n",
       "  </tbody>\n",
       "</table>\n",
       "</div>"
      ],
      "text/plain": [
       "   x    y\n",
       "0  3  1.0\n",
       "1  4  3.0\n",
       "2  1  5.0\n",
       "3  2  4.0\n",
       "4  4  2.0"
      ]
     },
     "execution_count": 5,
     "metadata": {},
     "output_type": "execute_result"
    }
   ],
   "source": [
    "data=pd.read_csv(\"../file1.csv\")\n",
    "data.head()"
   ]
  },
  {
   "cell_type": "code",
   "execution_count": 6,
   "id": "82a4644c-2a67-4e37-bf30-d1258c18da3d",
   "metadata": {
    "tags": []
   },
   "outputs": [
    {
     "data": {
      "image/png": "[encoded data removed]",
      "text/plain": [
       "<Figure size 432x288 with 1 Axes>"
      ]
     },
     "metadata": {
      "needs_background": "light"
     },
     "output_type": "display_data"
    }
   ],
   "source": [
    "plt.scatter(data.x,data.y)\n",
    "plt.show()"
   ]
  },
  {
   "cell_type": "code",
   "execution_count": 10,
   "id": "a03ac4c1-4a29-44ee-a0dc-5a731d27a9d2",
   "metadata": {
    "tags": []
   },
   "outputs": [],
   "source": [
    "#r=(x'*y')/root(x'2*y'2)\n",
    "x_mean=data.x.mean()\n",
    "y_mean=data.y.mean()\n",
    "\n",
    "x_sd=data.x.std()\n",
    "y_sd=data.y.std()"
   ]
  },
  {
   "cell_type": "code",
   "execution_count": 11,
   "id": "4ee823f4-30aa-47a4-bc2e-b99de4641abb",
   "metadata": {
    "tags": []
   },
   "outputs": [],
   "source": [
    "data[\"x-\"]=data[\"x\"]-x_mean\n",
    "data[\"y-\"]=data[\"y\"]-y_mean\n",
    "data[\"xy-\"]=data[\"x-\"]*data[\"y-\"]\n",
    "data[\"x-2\"]=data[\"x-\"]**2\n",
    "data[\"y-2\"]=data[\"y-\"]**2"
   ]
  },
  {
   "cell_type": "code",
   "execution_count": 12,
   "id": "6d9f86ec-2852-44de-b28d-42a5eff4a779",
   "metadata": {
    "tags": []
   },
   "outputs": [
    {
     "data": {
      "text/html": [
       "<div>\n",
       "<style scoped>\n",
       "    .dataframe tbody tr th:only-of-type {\n",
       "        vertical-align: middle;\n",
       "    }\n",
       "\n",
       "    .dataframe tbody tr th {\n",
       "        vertical-align: top;\n",
       "    }\n",
       "\n",
       "    .dataframe thead th {\n",
       "        text-align: right;\n",
       "    }\n",
       "</style>\n",
       "<table border=\"1\" class=\"dataframe\">\n",
       "  <thead>\n",
       "    <tr style=\"text-align: right;\">\n",
       "      <th></th>\n",
       "      <th>x</th>\n",
       "      <th>y</th>\n",
       "      <th>x-</th>\n",
       "      <th>y-</th>\n",
       "      <th>xy-</th>\n",
       "      <th>x-2</th>\n",
       "      <th>y-2</th>\n",
       "    </tr>\n",
       "  </thead>\n",
       "  <tbody>\n",
       "    <tr>\n",
       "      <th>0</th>\n",
       "      <td>3</td>\n",
       "      <td>1.0</td>\n",
       "      <td>-0.285714</td>\n",
       "      <td>-1.971429</td>\n",
       "      <td>0.563265</td>\n",
       "      <td>0.081633</td>\n",
       "      <td>3.886531</td>\n",
       "    </tr>\n",
       "    <tr>\n",
       "      <th>1</th>\n",
       "      <td>4</td>\n",
       "      <td>3.0</td>\n",
       "      <td>0.714286</td>\n",
       "      <td>0.028571</td>\n",
       "      <td>0.020408</td>\n",
       "      <td>0.510204</td>\n",
       "      <td>0.000816</td>\n",
       "    </tr>\n",
       "    <tr>\n",
       "      <th>2</th>\n",
       "      <td>1</td>\n",
       "      <td>5.0</td>\n",
       "      <td>-2.285714</td>\n",
       "      <td>2.028571</td>\n",
       "      <td>-4.636735</td>\n",
       "      <td>5.224490</td>\n",
       "      <td>4.115102</td>\n",
       "    </tr>\n",
       "    <tr>\n",
       "      <th>3</th>\n",
       "      <td>2</td>\n",
       "      <td>4.0</td>\n",
       "      <td>-1.285714</td>\n",
       "      <td>1.028571</td>\n",
       "      <td>-1.322449</td>\n",
       "      <td>1.653061</td>\n",
       "      <td>1.057959</td>\n",
       "    </tr>\n",
       "    <tr>\n",
       "      <th>4</th>\n",
       "      <td>4</td>\n",
       "      <td>2.0</td>\n",
       "      <td>0.714286</td>\n",
       "      <td>-0.971429</td>\n",
       "      <td>-0.693878</td>\n",
       "      <td>0.510204</td>\n",
       "      <td>0.943673</td>\n",
       "    </tr>\n",
       "    <tr>\n",
       "      <th>5</th>\n",
       "      <td>6</td>\n",
       "      <td>3.2</td>\n",
       "      <td>2.714286</td>\n",
       "      <td>0.228571</td>\n",
       "      <td>0.620408</td>\n",
       "      <td>7.367347</td>\n",
       "      <td>0.052245</td>\n",
       "    </tr>\n",
       "    <tr>\n",
       "      <th>6</th>\n",
       "      <td>3</td>\n",
       "      <td>2.6</td>\n",
       "      <td>-0.285714</td>\n",
       "      <td>-0.371429</td>\n",
       "      <td>0.106122</td>\n",
       "      <td>0.081633</td>\n",
       "      <td>0.137959</td>\n",
       "    </tr>\n",
       "  </tbody>\n",
       "</table>\n",
       "</div>"
      ],
      "text/plain": [
       "   x    y        x-        y-       xy-       x-2       y-2\n",
       "0  3  1.0 -0.285714 -1.971429  0.563265  0.081633  3.886531\n",
       "1  4  3.0  0.714286  0.028571  0.020408  0.510204  0.000816\n",
       "2  1  5.0 -2.285714  2.028571 -4.636735  5.224490  4.115102\n",
       "3  2  4.0 -1.285714  1.028571 -1.322449  1.653061  1.057959\n",
       "4  4  2.0  0.714286 -0.971429 -0.693878  0.510204  0.943673\n",
       "5  6  3.2  2.714286  0.228571  0.620408  7.367347  0.052245\n",
       "6  3  2.6 -0.285714 -0.371429  0.106122  0.081633  0.137959"
      ]
     },
     "execution_count": 12,
     "metadata": {},
     "output_type": "execute_result"
    }
   ],
   "source": [
    "data"
   ]
  },
  {
   "cell_type": "code",
   "execution_count": 13,
   "id": "0bcd3a3d-0735-465b-9326-56d4016a1fa5",
   "metadata": {
    "tags": []
   },
   "outputs": [
    {
     "data": {
      "text/plain": [
       "-0.4260222716215921"
      ]
     },
     "execution_count": 13,
     "metadata": {},
     "output_type": "execute_result"
    }
   ],
   "source": [
    "corellation=data[\"xy-\"].sum()/(data[\"x-2\"].sum()*data[\"y-2\"].sum())**0.5\n",
    "corellation"
   ]
  },
  {
   "cell_type": "code",
   "execution_count": 14,
   "id": "25bbc0af-4cd4-42d2-bf6c-6208796bff10",
   "metadata": {
    "tags": []
   },
   "outputs": [
    {
     "data": {
      "text/plain": [
       "-0.34629629629629627"
      ]
     },
     "execution_count": 14,
     "metadata": {},
     "output_type": "execute_result"
    }
   ],
   "source": [
    "m=corellation*(y_sd/x_sd)\n",
    "m"
   ]
  },
  {
   "cell_type": "code",
   "execution_count": 15,
   "id": "e45d568a-587f-4552-a58d-c74c63048584",
   "metadata": {
    "tags": []
   },
   "outputs": [
    {
     "data": {
      "text/plain": [
       "4.3712160353280884"
      ]
     },
     "execution_count": 15,
     "metadata": {},
     "output_type": "execute_result"
    }
   ],
   "source": [
    "C=y_mean-corellation*x_mean\n",
    "C"
   ]
  },
  {
   "cell_type": "code",
   "execution_count": 16,
   "id": "d654e4c6-5d57-4d25-95d1-87cd9af6e51a",
   "metadata": {
    "tags": []
   },
   "outputs": [],
   "source": [
    "data[\"y-pre\"]=m*data[\"x\"]+C"
   ]
  },
  {
   "cell_type": "code",
   "execution_count": 17,
   "id": "787c3ca9-5d52-41d2-9ca3-6a856c8d1e8d",
   "metadata": {
    "tags": []
   },
   "outputs": [
    {
     "data": {
      "text/html": [
       "<div>\n",
       "<style scoped>\n",
       "    .dataframe tbody tr th:only-of-type {\n",
       "        vertical-align: middle;\n",
       "    }\n",
       "\n",
       "    .dataframe tbody tr th {\n",
       "        vertical-align: top;\n",
       "    }\n",
       "\n",
       "    .dataframe thead th {\n",
       "        text-align: right;\n",
       "    }\n",
       "</style>\n",
       "<table border=\"1\" class=\"dataframe\">\n",
       "  <thead>\n",
       "    <tr style=\"text-align: right;\">\n",
       "      <th></th>\n",
       "      <th>x</th>\n",
       "      <th>y</th>\n",
       "      <th>x-</th>\n",
       "      <th>y-</th>\n",
       "      <th>xy-</th>\n",
       "      <th>x-2</th>\n",
       "      <th>y-2</th>\n",
       "      <th>y-pre</th>\n",
       "    </tr>\n",
       "  </thead>\n",
       "  <tbody>\n",
       "    <tr>\n",
       "      <th>0</th>\n",
       "      <td>3</td>\n",
       "      <td>1.0</td>\n",
       "      <td>-0.285714</td>\n",
       "      <td>-1.971429</td>\n",
       "      <td>0.563265</td>\n",
       "      <td>0.081633</td>\n",
       "      <td>3.886531</td>\n",
       "      <td>3.332327</td>\n",
       "    </tr>\n",
       "    <tr>\n",
       "      <th>1</th>\n",
       "      <td>4</td>\n",
       "      <td>3.0</td>\n",
       "      <td>0.714286</td>\n",
       "      <td>0.028571</td>\n",
       "      <td>0.020408</td>\n",
       "      <td>0.510204</td>\n",
       "      <td>0.000816</td>\n",
       "      <td>2.986031</td>\n",
       "    </tr>\n",
       "    <tr>\n",
       "      <th>2</th>\n",
       "      <td>1</td>\n",
       "      <td>5.0</td>\n",
       "      <td>-2.285714</td>\n",
       "      <td>2.028571</td>\n",
       "      <td>-4.636735</td>\n",
       "      <td>5.224490</td>\n",
       "      <td>4.115102</td>\n",
       "      <td>4.024920</td>\n",
       "    </tr>\n",
       "    <tr>\n",
       "      <th>3</th>\n",
       "      <td>2</td>\n",
       "      <td>4.0</td>\n",
       "      <td>-1.285714</td>\n",
       "      <td>1.028571</td>\n",
       "      <td>-1.322449</td>\n",
       "      <td>1.653061</td>\n",
       "      <td>1.057959</td>\n",
       "      <td>3.678623</td>\n",
       "    </tr>\n",
       "    <tr>\n",
       "      <th>4</th>\n",
       "      <td>4</td>\n",
       "      <td>2.0</td>\n",
       "      <td>0.714286</td>\n",
       "      <td>-0.971429</td>\n",
       "      <td>-0.693878</td>\n",
       "      <td>0.510204</td>\n",
       "      <td>0.943673</td>\n",
       "      <td>2.986031</td>\n",
       "    </tr>\n",
       "    <tr>\n",
       "      <th>5</th>\n",
       "      <td>6</td>\n",
       "      <td>3.2</td>\n",
       "      <td>2.714286</td>\n",
       "      <td>0.228571</td>\n",
       "      <td>0.620408</td>\n",
       "      <td>7.367347</td>\n",
       "      <td>0.052245</td>\n",
       "      <td>2.293438</td>\n",
       "    </tr>\n",
       "    <tr>\n",
       "      <th>6</th>\n",
       "      <td>3</td>\n",
       "      <td>2.6</td>\n",
       "      <td>-0.285714</td>\n",
       "      <td>-0.371429</td>\n",
       "      <td>0.106122</td>\n",
       "      <td>0.081633</td>\n",
       "      <td>0.137959</td>\n",
       "      <td>3.332327</td>\n",
       "    </tr>\n",
       "  </tbody>\n",
       "</table>\n",
       "</div>"
      ],
      "text/plain": [
       "   x    y        x-        y-       xy-       x-2       y-2     y-pre\n",
       "0  3  1.0 -0.285714 -1.971429  0.563265  0.081633  3.886531  3.332327\n",
       "1  4  3.0  0.714286  0.028571  0.020408  0.510204  0.000816  2.986031\n",
       "2  1  5.0 -2.285714  2.028571 -4.636735  5.224490  4.115102  4.024920\n",
       "3  2  4.0 -1.285714  1.028571 -1.322449  1.653061  1.057959  3.678623\n",
       "4  4  2.0  0.714286 -0.971429 -0.693878  0.510204  0.943673  2.986031\n",
       "5  6  3.2  2.714286  0.228571  0.620408  7.367347  0.052245  2.293438\n",
       "6  3  2.6 -0.285714 -0.371429  0.106122  0.081633  0.137959  3.332327"
      ]
     },
     "execution_count": 17,
     "metadata": {},
     "output_type": "execute_result"
    }
   ],
   "source": [
    "data"
   ]
  },
  {
   "cell_type": "code",
   "execution_count": 19,
   "id": "275019db-07ed-4ca8-a9bf-2a92260abebf",
   "metadata": {
    "tags": []
   },
   "outputs": [
    {
     "data": {
      "text/plain": [
       "1.260631934538957"
      ]
     },
     "execution_count": 19,
     "metadata": {},
     "output_type": "execute_result"
    }
   ],
   "source": [
    "data[\"cost\"]=(data[\"y\"]-data[\"y-pre\"])**2\n",
    "cost=data[\"cost\"].sum()/len(data[\"cost\"])\n",
    "cost"
   ]
  },
  {
   "cell_type": "code",
   "execution_count": 21,
   "id": "a82cca71-b209-49cc-aa64-0bd8af412385",
   "metadata": {
    "tags": []
   },
   "outputs": [
    {
     "data": {
      "text/plain": [
       "8.824423541772699"
      ]
     },
     "execution_count": 21,
     "metadata": {},
     "output_type": "execute_result"
    }
   ],
   "source": [
    "data[\"sse\"]=(data[\"y-pre\"]-data[\"y\"])**2\n",
    "sse=data[\"sse\"].sum()\n",
    "sse"
   ]
  },
  {
   "cell_type": "code",
   "execution_count": 22,
   "id": "91a5aab9-d849-4727-9605-2265d74e23c3",
   "metadata": {
    "tags": []
   },
   "outputs": [
    {
     "data": {
      "text/plain": [
       "2.330561107910262"
      ]
     },
     "execution_count": 22,
     "metadata": {},
     "output_type": "execute_result"
    }
   ],
   "source": [
    "data[\"ssr\"]=(data[\"y-pre\"]-y_mean)**2\n",
    "ssr=data[\"ssr\"].sum()\n",
    "ssr"
   ]
  },
  {
   "cell_type": "code",
   "execution_count": 24,
   "id": "03207fcf-4a88-48df-b178-b90a0c4469a3",
   "metadata": {
    "tags": []
   },
   "outputs": [
    {
     "data": {
      "text/plain": [
       "11.15498464968296"
      ]
     },
     "execution_count": 24,
     "metadata": {},
     "output_type": "execute_result"
    }
   ],
   "source": [
    "sst=ssr+sse\n",
    "sst"
   ]
  },
  {
   "cell_type": "code",
   "execution_count": 26,
   "id": "48a109d0-45ff-476f-958f-5fb38bc66f5b",
   "metadata": {
    "tags": []
   },
   "outputs": [
    {
     "data": {
      "text/plain": [
       "0.20892553249515225"
      ]
     },
     "execution_count": 26,
     "metadata": {},
     "output_type": "execute_result"
    }
   ],
   "source": [
    "r_sq=ssr/sst\n",
    "r_sq"
   ]
  }
 ],
 "metadata": {
  "kernelspec": {
   "display_name": "Python 3 (ipykernel)",
   "language": "python",
   "name": "python3"
  },
  "language_info": {
   "codemirror_mode": {
    "name": "ipython",
    "version": 3
   },
   "file_extension": ".py",
   "mimetype": "text/x-python",
   "name": "python",
   "nbconvert_exporter": "python",
   "pygments_lexer": "ipython3",
   "version": "3.9.4"
  }
 },
 "nbformat": 4,
 "nbformat_minor": 5
}
