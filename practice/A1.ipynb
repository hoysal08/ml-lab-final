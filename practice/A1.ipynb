{
 "cells": [
  {
   "cell_type": "code",
   "execution_count": 1,
   "id": "1087ab51-b194-48a5-a782-7aa8798316d3",
   "metadata": {
    "tags": []
   },
   "outputs": [],
   "source": [
    "ip=[115.3,195.5,120.5,110.2,90.4,105.6,110.9,116.3,122.3,125.4]"
   ]
  },
  {
   "cell_type": "code",
   "execution_count": 7,
   "id": "8214f843-d106-46cf-8bdb-be2352dfd947",
   "metadata": {
    "tags": []
   },
   "outputs": [],
   "source": [
    "def mean(ip):\n",
    "    summ=sum(ip)\n",
    "    return summ/len(ip)"
   ]
  },
  {
   "cell_type": "code",
   "execution_count": 13,
   "id": "902c6267-5303-40bf-ad08-ea0831f01fdd",
   "metadata": {
    "tags": []
   },
   "outputs": [],
   "source": [
    "def median(ip):\n",
    "    length=len(ip)\n",
    "    if(length%2==0):\n",
    "        length=int(length/2)\n",
    "        return (ip[length]+ip[length-1])/2\n",
    "    else:\n",
    "        return ip[int(length/2)]"
   ]
  },
  {
   "cell_type": "code",
   "execution_count": 18,
   "id": "c04cb1cf-e8b5-4454-9da8-e48a740f0cb6",
   "metadata": {
    "tags": []
   },
   "outputs": [],
   "source": [
    "def mode(ip):\n",
    "    d={}\n",
    "    for i in ip:\n",
    "        if i in d:\n",
    "            d[i]+=1\n",
    "        else:\n",
    "            d[i]=1\n",
    "    ans=-1\n",
    "    count=-1\n",
    "    for i in ip:\n",
    "        if(d[i]>count):\n",
    "            ans=i\n",
    "            count=d[i]\n",
    "    return ans"
   ]
  },
  {
   "cell_type": "code",
   "execution_count": 25,
   "id": "69f21fc2-6f2a-472d-a56b-d0a52b77894f",
   "metadata": {
    "tags": []
   },
   "outputs": [],
   "source": [
    "def sd(ip):\n",
    "    x_mean=mean(ip)\n",
    "    sum=0\n",
    "    for i in ip:\n",
    "        sum=sum+(i-x_mean)**2\n",
    "    sum=sum/len(ip)\n",
    "    return sum**0.5"
   ]
  },
  {
   "cell_type": "code",
   "execution_count": 27,
   "id": "cc65a0a6-c1b6-466d-a237-36fedf6b184a",
   "metadata": {
    "tags": []
   },
   "outputs": [],
   "source": [
    "def variance(ip):\n",
    "    return sd(ip)**2"
   ]
  },
  {
   "cell_type": "code",
   "execution_count": 31,
   "id": "4f37284f-d629-4159-978d-64b90bf9e52c",
   "metadata": {
    "tags": []
   },
   "outputs": [],
   "source": [
    "def minmaxnorm(ip):\n",
    "    minn=min(ip)\n",
    "    maxx=max(ip)\n",
    "    ans=[]\n",
    "    for i in ip:\n",
    "        temp=(i-minn)/(maxx-minn)\n",
    "        ans.append(temp)\n",
    "    return ans"
   ]
  },
  {
   "cell_type": "code",
   "execution_count": 33,
   "id": "5c0d6ae3-ddf7-4fbc-ac25-b7fa3484d8e3",
   "metadata": {
    "tags": []
   },
   "outputs": [],
   "source": [
    "def standidsation(ip):\n",
    "    x_mean=mean(ip)\n",
    "    sdd=sd(ip)\n",
    "    ans=[]\n",
    "    for i in ip:\n",
    "        temp=(i-x_mean)/sdd\n",
    "        ans.append(temp)\n",
    "    return ans\n",
    "    "
   ]
  },
  {
   "cell_type": "code",
   "execution_count": 34,
   "id": "71b1dd2d-925e-4ff5-9f5a-d4795846c662",
   "metadata": {
    "tags": []
   },
   "outputs": [
    {
     "name": "stdout",
     "output_type": "stream",
     "text": [
      "121.24000000000001\n",
      "98.0\n",
      "115.3\n",
      "26.490987146574962\n",
      "701.7723999999998\n",
      "[0.23691722169362506, 1.0, 0.2863939105613701, 0.18839200761179828, 0.0, 0.14462416745956222, 0.1950523311132255, 0.24643196955280677, 0.3035204567078972, 0.3330161750713606]\n",
      "[-0.22422720478983732, 2.803217546749711, -0.02793402887954231, -0.4167455119326263, -1.164169527898749, -0.5903894752378875, -0.3903214305600865, -0.18647851711478058, 0.040013608935559664, 0.15703454072823578]\n"
     ]
    }
   ],
   "source": [
    "print(mean(ip))\n",
    "print(median(ip))\n",
    "print(mode(ip))\n",
    "print(sd(ip))\n",
    "print(variance(ip))\n",
    "print(minmaxnorm(ip))\n",
    "print(standidsation(ip))"
   ]
  },
  {
   "cell_type": "code",
   "execution_count": null,
   "id": "289e4ff0-112d-4f07-93db-3030682ba682",
   "metadata": {},
   "outputs": [],
   "source": []
  }
 ],
 "metadata": {
  "kernelspec": {
   "display_name": "Python 3 (ipykernel)",
   "language": "python",
   "name": "python3"
  },
  "language_info": {
   "codemirror_mode": {
    "name": "ipython",
    "version": 3
   },
   "file_extension": ".py",
   "mimetype": "text/x-python",
   "name": "python",
   "nbconvert_exporter": "python",
   "pygments_lexer": "ipython3",
   "version": "3.9.4"
  }
 },
 "nbformat": 4,
 "nbformat_minor": 5
}
