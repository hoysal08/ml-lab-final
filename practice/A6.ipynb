{
 "cells": [
  {
   "cell_type": "code",
   "execution_count": 69,
   "id": "60fce477-36a7-40ad-b6d4-a102f64066cb",
   "metadata": {
    "tags": []
   },
   "outputs": [],
   "source": [
    "import pandas as pd\n",
    "import numpy as np\n",
    "from sklearn import preprocessing\n",
    "from sklearn.model_selection import KFold,train_test_split\n",
    "from sklearn.metrics import accuracy_score"
   ]
  },
  {
   "cell_type": "code",
   "execution_count": 70,
   "id": "66d0dd30-b573-4bae-9dce-7483878f5184",
   "metadata": {
    "tags": []
   },
   "outputs": [
    {
     "data": {
      "text/html": [
       "<div>\n",
       "<style scoped>\n",
       "    .dataframe tbody tr th:only-of-type {\n",
       "        vertical-align: middle;\n",
       "    }\n",
       "\n",
       "    .dataframe tbody tr th {\n",
       "        vertical-align: top;\n",
       "    }\n",
       "\n",
       "    .dataframe thead th {\n",
       "        text-align: right;\n",
       "    }\n",
       "</style>\n",
       "<table border=\"1\" class=\"dataframe\">\n",
       "  <thead>\n",
       "    <tr style=\"text-align: right;\">\n",
       "      <th></th>\n",
       "      <th>34.62365962</th>\n",
       "      <th>78.02469282</th>\n",
       "      <th>0</th>\n",
       "    </tr>\n",
       "  </thead>\n",
       "  <tbody>\n",
       "    <tr>\n",
       "      <th>0</th>\n",
       "      <td>30.286711</td>\n",
       "      <td>43.894998</td>\n",
       "      <td>0</td>\n",
       "    </tr>\n",
       "    <tr>\n",
       "      <th>1</th>\n",
       "      <td>35.847409</td>\n",
       "      <td>72.902198</td>\n",
       "      <td>0</td>\n",
       "    </tr>\n",
       "    <tr>\n",
       "      <th>2</th>\n",
       "      <td>60.182599</td>\n",
       "      <td>86.308552</td>\n",
       "      <td>1</td>\n",
       "    </tr>\n",
       "    <tr>\n",
       "      <th>3</th>\n",
       "      <td>79.032736</td>\n",
       "      <td>75.344376</td>\n",
       "      <td>1</td>\n",
       "    </tr>\n",
       "    <tr>\n",
       "      <th>4</th>\n",
       "      <td>45.083277</td>\n",
       "      <td>56.316372</td>\n",
       "      <td>0</td>\n",
       "    </tr>\n",
       "  </tbody>\n",
       "</table>\n",
       "</div>"
      ],
      "text/plain": [
       "   34.62365962  78.02469282  0\n",
       "0    30.286711    43.894998  0\n",
       "1    35.847409    72.902198  0\n",
       "2    60.182599    86.308552  1\n",
       "3    79.032736    75.344376  1\n",
       "4    45.083277    56.316372  0"
      ]
     },
     "execution_count": 70,
     "metadata": {},
     "output_type": "execute_result"
    }
   ],
   "source": [
    "data=pd.read_csv(\"../A6_Student-University(For Logistic Regression Program) (2).csv\")\n",
    "data.head()"
   ]
  },
  {
   "cell_type": "code",
   "execution_count": 71,
   "id": "835e50f5-1c6f-46af-b84d-9c4286985a84",
   "metadata": {
    "tags": []
   },
   "outputs": [],
   "source": [
    "X=data.iloc[:,[0,1]].values\n",
    "Y=data.iloc[:,2].values"
   ]
  },
  {
   "cell_type": "code",
   "execution_count": 72,
   "id": "3d15e4dc-b559-42ad-81d0-478198d50a54",
   "metadata": {
    "tags": []
   },
   "outputs": [],
   "source": [
    "p=preprocessing.scale(X)"
   ]
  },
  {
   "cell_type": "code",
   "execution_count": 73,
   "id": "1054d8ce-8219-4949-88bd-db9436571626",
   "metadata": {
    "tags": []
   },
   "outputs": [],
   "source": [
    "kf=KFold(n_splits=5)"
   ]
  },
  {
   "cell_type": "code",
   "execution_count": 74,
   "id": "6e62e5ae-50d7-4aeb-8dc1-ab0a69ceb6de",
   "metadata": {
    "tags": []
   },
   "outputs": [],
   "source": [
    "for train_split,test_split in kf.split(p):\n",
    "    X_train,X_test,Y_train,Y_test=train_test_split(p,Y,test_size=0.1)\n",
    "    x1=X[:,0]\n",
    "    x2=X[:,1]\n",
    "    b0=0\n",
    "    b1=0\n",
    "    b2=0\n",
    "    alpha=0.003\n",
    "    epoch=1000\n",
    "    while(epoch>1):\n",
    "        for i in range(len(X_train)):\n",
    "            predection=1/(1+np.exp(-(b0+b1*x1[i]+b2*x2[i])))\n",
    "            b0=b0+(alpha*(Y_train[i]-predection)*predection*(1-predection)*1.0)\n",
    "            b1=b1+(alpha*(Y_train[i]-predection)*predection*(1-predection)*x1[i])\n",
    "            b2=b2+(alpha*(Y_train[i]-predection)*predection*(1-predection)*x2[i])\n",
    "            epoch-=1"
   ]
  },
  {
   "cell_type": "code",
   "execution_count": 75,
   "id": "52a34ac8-4a0c-488d-90f4-4b8245fa8e8c",
   "metadata": {
    "tags": []
   },
   "outputs": [],
   "source": [
    "final_pred=[]\n",
    "x3=X_test[:,0]\n",
    "x4=X_test[:,1]"
   ]
  },
  {
   "cell_type": "code",
   "execution_count": 76,
   "id": "18db5f2c-fa70-4827-9f93-9e49d006d4bf",
   "metadata": {
    "tags": []
   },
   "outputs": [
    {
     "data": {
      "text/plain": [
       "array([1, 0, 1, 1, 0, 1, 1, 1, 1, 1], dtype=int64)"
      ]
     },
     "execution_count": 76,
     "metadata": {},
     "output_type": "execute_result"
    }
   ],
   "source": [
    "Y_test"
   ]
  },
  {
   "cell_type": "code",
   "execution_count": 77,
   "id": "c207340e-c580-4340-8f2e-ee4a9fefae47",
   "metadata": {
    "tags": []
   },
   "outputs": [],
   "source": [
    "for i in range(len(X_test)):\n",
    "     temp=1/(1+np.exp(-(b0+b1*x3[i]+b2*x4[i])))\n",
    "     final_pred.append(np.ceil(temp))\n",
    "      "
   ]
  },
  {
   "cell_type": "code",
   "execution_count": 78,
   "id": "762084b9-98c6-40b8-bfda-26697d7ed4db",
   "metadata": {
    "tags": []
   },
   "outputs": [
    {
     "data": {
      "text/plain": [
       "[1.0, 1.0, 1.0, 1.0, 1.0, 1.0, 1.0, 1.0, 1.0, 1.0]"
      ]
     },
     "execution_count": 78,
     "metadata": {},
     "output_type": "execute_result"
    }
   ],
   "source": [
    "final_pred "
   ]
  },
  {
   "cell_type": "code",
   "execution_count": 79,
   "id": "baa00cc4-9fcb-4ebf-a9b9-6f549faab583",
   "metadata": {
    "tags": []
   },
   "outputs": [
    {
     "data": {
      "text/plain": [
       "0.8"
      ]
     },
     "execution_count": 79,
     "metadata": {},
     "output_type": "execute_result"
    }
   ],
   "source": [
    "accuracy_score(Y_test,final_pred)"
   ]
  },
  {
   "cell_type": "code",
   "execution_count": null,
   "id": "dfed34ef-843f-4e0e-be83-3acac41d8398",
   "metadata": {},
   "outputs": [],
   "source": []
  }
 ],
 "metadata": {
  "kernelspec": {
   "display_name": "Python 3 (ipykernel)",
   "language": "python",
   "name": "python3"
  },
  "language_info": {
   "codemirror_mode": {
    "name": "ipython",
    "version": 3
   },
   "file_extension": ".py",
   "mimetype": "text/x-python",
   "name": "python",
   "nbconvert_exporter": "python",
   "pygments_lexer": "ipython3",
   "version": "3.9.4"
  }
 },
 "nbformat": 4,
 "nbformat_minor": 5
}
