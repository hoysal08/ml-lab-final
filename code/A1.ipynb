{
 "cells": [
  {
   "cell_type": "code",
   "execution_count": 24,
   "id": "8066f320-e091-4256-ad25-8f793ed55240",
   "metadata": {
    "tags": []
   },
   "outputs": [],
   "source": [
    "ip=[115.3,195.5,120.5,110.2,90.4,105.6,110.9,116.3,122.3,125.4]"
   ]
  },
  {
   "cell_type": "code",
   "execution_count": 25,
   "id": "42ef4d53-b1fe-43da-a298-bed9d38082ac",
   "metadata": {
    "tags": []
   },
   "outputs": [],
   "source": [
    "def mean(ip):\n",
    "    sum=0\n",
    "    for i in ip:\n",
    "        sum+=i\n",
    "        \n",
    "    return sum/len(ip)"
   ]
  },
  {
   "cell_type": "code",
   "execution_count": 26,
   "id": "c5e4fa7b-934e-4782-bb7f-f9c377f42a15",
   "metadata": {
    "tags": []
   },
   "outputs": [],
   "source": [
    "def median(ip):\n",
    "    length=len(ip)\n",
    "    if(length%2==0):\n",
    "        return (ip[int(length/2)]+ip[int(length/2)-1])/2"
   ]
  },
  {
   "cell_type": "code",
   "execution_count": 27,
   "id": "a7eff9cc-bf93-46f0-9569-f4a1c61355ae",
   "metadata": {
    "tags": []
   },
   "outputs": [],
   "source": [
    "def mode(ip):\n",
    "    m={}\n",
    "    for i in ip:\n",
    "        if i in m:\n",
    "            m[i]+=1\n",
    "        else:\n",
    "           m[i]=1\n",
    "    ans=-1\n",
    "    ans_count=-1\n",
    "    for i in m:\n",
    "        if(m[i]>ans_count):\n",
    "            ans_count=m[i]\n",
    "            ans=i\n",
    "    return ans"
   ]
  },
  {
   "cell_type": "code",
   "execution_count": 32,
   "id": "36dce148-1edc-4cac-bdb1-7ba6824060e9",
   "metadata": {
    "tags": []
   },
   "outputs": [],
   "source": [
    "def sd(ip):\n",
    "    mean_val=mean(ip)\n",
    "    sd_t=0;\n",
    "    for i in ip:\n",
    "        sd_t+=(i-mean_val)**2\n",
    "        \n",
    "    sd_t=sd_t/len(ip)\n",
    "    return sd_t**0.5"
   ]
  },
  {
   "cell_type": "code",
   "execution_count": 40,
   "id": "3d11b0cc-808f-442b-b36b-156ccbc1aa54",
   "metadata": {
    "tags": []
   },
   "outputs": [],
   "source": [
    "def variance(ip):\n",
    "    mean_val=mean(ip)\n",
    "    sd_t=0;\n",
    "    for i in ip:\n",
    "        sd_t+=(i-mean_val)**2\n",
    "        \n",
    "    return sd_t/len(ip)"
   ]
  },
  {
   "cell_type": "code",
   "execution_count": 50,
   "id": "6c6ee899-1174-4d99-a66f-af9b63cf2491",
   "metadata": {
    "tags": []
   },
   "outputs": [],
   "source": [
    "def minmaxnorm(ip):\n",
    "    min_val=min(ip)\n",
    "    max_val=max(ip)\n",
    "    ans=[]\n",
    "    for i in range(len(ip)):\n",
    "        ans.append((ip[i]-min_val)/(max_val-min_val))\n",
    "    return ans"
   ]
  },
  {
   "cell_type": "code",
   "execution_count": 52,
   "id": "56f41d3e-370e-45db-9ff8-7b50871e4171",
   "metadata": {
    "tags": []
   },
   "outputs": [],
   "source": [
    "def standadisation(ip):\n",
    "    mean_val=mean(ip)\n",
    "    std_dev=sd(ip)\n",
    "    ans=[]\n",
    "    for i in range(len(ip)):\n",
    "        ans.append((ip[i]-mean_val)/std_dev)\n",
    "    return ans\n"
   ]
  },
  {
   "cell_type": "code",
   "execution_count": 53,
   "id": "8ae7b083-0a4c-45e7-8b63-202e90337f65",
   "metadata": {
    "tags": []
   },
   "outputs": [
    {
     "name": "stdout",
     "output_type": "stream",
     "text": [
      "mean:  121.24000000000001\n",
      "median:  98.0\n",
      "mode:  115.3\n",
      "standard deviation :  26.490987146574962\n",
      "variance :  701.7724\n",
      "normalization :  [0.23691722169362506, 1.0, 0.2863939105613701, 0.18839200761179828, 0.0, 0.14462416745956222, 0.1950523311132255, 0.24643196955280677, 0.3035204567078972, 0.3330161750713606]\n",
      "standadisation :  [-0.22422720478983732, 2.803217546749711, -0.02793402887954231, -0.4167455119326263, -1.164169527898749, -0.5903894752378875, -0.3903214305600865, -0.18647851711478058, 0.040013608935559664, 0.15703454072823578]\n"
     ]
    }
   ],
   "source": [
    "print(\"mean: \",mean(ip))\n",
    "print(\"median: \",median(ip))\n",
    "print(\"mode: \",mode(ip))\n",
    "print(\"standard deviation : \",sd(ip))\n",
    "print(\"variance : \",variance(ip))\n",
    "print(\"normalization : \",minmaxnorm(ip))\n",
    "print(\"standadisation : \",standadisation(ip))"
   ]
  },
  {
   "cell_type": "code",
   "execution_count": null,
   "id": "faa76073-8734-4d82-bdd5-4b6416ec1ea0",
   "metadata": {},
   "outputs": [],
   "source": []
  }
 ],
 "metadata": {
  "kernelspec": {
   "display_name": "Python 3 (ipykernel)",
   "language": "python",
   "name": "python3"
  },
  "language_info": {
   "codemirror_mode": {
    "name": "ipython",
    "version": 3
   },
   "file_extension": ".py",
   "mimetype": "text/x-python",
   "name": "python",
   "nbconvert_exporter": "python",
   "pygments_lexer": "ipython3",
   "version": "3.9.4"
  }
 },
 "nbformat": 4,
 "nbformat_minor": 5
}
