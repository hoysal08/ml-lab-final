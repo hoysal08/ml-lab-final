{
 "cells": [
  {
   "cell_type": "code",
   "execution_count": 1,
   "id": "3e8d361e-c89a-42d2-b58d-9e0ca0fa511f",
   "metadata": {
    "tags": []
   },
   "outputs": [],
   "source": [
    "import pandas as pd\n",
    "import numpy as np\n",
    "import matplotlib.pyplot as plt"
   ]
  },
  {
   "cell_type": "code",
   "execution_count": 15,
   "id": "0bcd79e0-e077-4f1c-9af2-30633e39cda5",
   "metadata": {
    "tags": []
   },
   "outputs": [
    {
     "data": {
      "text/html": [
       "<div>\n",
       "<style scoped>\n",
       "    .dataframe tbody tr th:only-of-type {\n",
       "        vertical-align: middle;\n",
       "    }\n",
       "\n",
       "    .dataframe tbody tr th {\n",
       "        vertical-align: top;\n",
       "    }\n",
       "\n",
       "    .dataframe thead th {\n",
       "        text-align: right;\n",
       "    }\n",
       "</style>\n",
       "<table border=\"1\" class=\"dataframe\">\n",
       "  <thead>\n",
       "    <tr style=\"text-align: right;\">\n",
       "      <th></th>\n",
       "      <th>x</th>\n",
       "      <th>y</th>\n",
       "    </tr>\n",
       "  </thead>\n",
       "  <tbody>\n",
       "    <tr>\n",
       "      <th>0</th>\n",
       "      <td>3</td>\n",
       "      <td>1.0</td>\n",
       "    </tr>\n",
       "    <tr>\n",
       "      <th>1</th>\n",
       "      <td>4</td>\n",
       "      <td>3.0</td>\n",
       "    </tr>\n",
       "    <tr>\n",
       "      <th>2</th>\n",
       "      <td>1</td>\n",
       "      <td>5.0</td>\n",
       "    </tr>\n",
       "    <tr>\n",
       "      <th>3</th>\n",
       "      <td>2</td>\n",
       "      <td>4.0</td>\n",
       "    </tr>\n",
       "    <tr>\n",
       "      <th>4</th>\n",
       "      <td>4</td>\n",
       "      <td>2.0</td>\n",
       "    </tr>\n",
       "  </tbody>\n",
       "</table>\n",
       "</div>"
      ],
      "text/plain": [
       "   x    y\n",
       "0  3  1.0\n",
       "1  4  3.0\n",
       "2  1  5.0\n",
       "3  2  4.0\n",
       "4  4  2.0"
      ]
     },
     "execution_count": 15,
     "metadata": {},
     "output_type": "execute_result"
    }
   ],
   "source": [
    "data=pd.read_csv(\"../file1.csv\")\n",
    "data.head()"
   ]
  },
  {
   "cell_type": "code",
   "execution_count": 16,
   "id": "4cf77a18-a298-43de-98ba-56623cdf668b",
   "metadata": {
    "tags": []
   },
   "outputs": [
    {
     "data": {
      "image/png": "[encoded data removed]",
      "text/plain": [
       "<Figure size 432x288 with 1 Axes>"
      ]
     },
     "metadata": {
      "needs_background": "light"
     },
     "output_type": "display_data"
    }
   ],
   "source": [
    "data.plot(x='x',y='y',style=\"o\")\n",
    "plt.show()          "
   ]
  },
  {
   "cell_type": "code",
   "execution_count": 21,
   "id": "71a52081-5d5e-4c88-b063-5ff3e13cad1f",
   "metadata": {
    "tags": []
   },
   "outputs": [],
   "source": [
    "#r=(x'*y')/root(x'^2 * y'^2)\n",
    "\n",
    "x_mean=data['x'].mean()\n",
    "y_mean=data['y'].mean()\n",
    "\n",
    "x_std=data['x'].std()\n",
    "y_std=data['y'].std()"
   ]
  },
  {
   "cell_type": "code",
   "execution_count": 22,
   "id": "cbd80d50-9b28-4d46-b24d-4193e9185332",
   "metadata": {
    "tags": []
   },
   "outputs": [
    {
     "data": {
      "text/html": [
       "<div>\n",
       "<style scoped>\n",
       "    .dataframe tbody tr th:only-of-type {\n",
       "        vertical-align: middle;\n",
       "    }\n",
       "\n",
       "    .dataframe tbody tr th {\n",
       "        vertical-align: top;\n",
       "    }\n",
       "\n",
       "    .dataframe thead th {\n",
       "        text-align: right;\n",
       "    }\n",
       "</style>\n",
       "<table border=\"1\" class=\"dataframe\">\n",
       "  <thead>\n",
       "    <tr style=\"text-align: right;\">\n",
       "      <th></th>\n",
       "      <th>x</th>\n",
       "      <th>y</th>\n",
       "      <th>x-</th>\n",
       "      <th>y-</th>\n",
       "      <th>xy-</th>\n",
       "      <th>x-2</th>\n",
       "      <th>y-2</th>\n",
       "    </tr>\n",
       "  </thead>\n",
       "  <tbody>\n",
       "    <tr>\n",
       "      <th>0</th>\n",
       "      <td>3</td>\n",
       "      <td>1.0</td>\n",
       "      <td>-0.285714</td>\n",
       "      <td>-1.971429</td>\n",
       "      <td>0.563265</td>\n",
       "      <td>0.081633</td>\n",
       "      <td>3.886531</td>\n",
       "    </tr>\n",
       "    <tr>\n",
       "      <th>1</th>\n",
       "      <td>4</td>\n",
       "      <td>3.0</td>\n",
       "      <td>0.714286</td>\n",
       "      <td>0.028571</td>\n",
       "      <td>0.020408</td>\n",
       "      <td>0.510204</td>\n",
       "      <td>0.000816</td>\n",
       "    </tr>\n",
       "    <tr>\n",
       "      <th>2</th>\n",
       "      <td>1</td>\n",
       "      <td>5.0</td>\n",
       "      <td>-2.285714</td>\n",
       "      <td>2.028571</td>\n",
       "      <td>-4.636735</td>\n",
       "      <td>5.224490</td>\n",
       "      <td>4.115102</td>\n",
       "    </tr>\n",
       "    <tr>\n",
       "      <th>3</th>\n",
       "      <td>2</td>\n",
       "      <td>4.0</td>\n",
       "      <td>-1.285714</td>\n",
       "      <td>1.028571</td>\n",
       "      <td>-1.322449</td>\n",
       "      <td>1.653061</td>\n",
       "      <td>1.057959</td>\n",
       "    </tr>\n",
       "    <tr>\n",
       "      <th>4</th>\n",
       "      <td>4</td>\n",
       "      <td>2.0</td>\n",
       "      <td>0.714286</td>\n",
       "      <td>-0.971429</td>\n",
       "      <td>-0.693878</td>\n",
       "      <td>0.510204</td>\n",
       "      <td>0.943673</td>\n",
       "    </tr>\n",
       "    <tr>\n",
       "      <th>5</th>\n",
       "      <td>6</td>\n",
       "      <td>3.2</td>\n",
       "      <td>2.714286</td>\n",
       "      <td>0.228571</td>\n",
       "      <td>0.620408</td>\n",
       "      <td>7.367347</td>\n",
       "      <td>0.052245</td>\n",
       "    </tr>\n",
       "    <tr>\n",
       "      <th>6</th>\n",
       "      <td>3</td>\n",
       "      <td>2.6</td>\n",
       "      <td>-0.285714</td>\n",
       "      <td>-0.371429</td>\n",
       "      <td>0.106122</td>\n",
       "      <td>0.081633</td>\n",
       "      <td>0.137959</td>\n",
       "    </tr>\n",
       "  </tbody>\n",
       "</table>\n",
       "</div>"
      ],
      "text/plain": [
       "   x    y        x-        y-       xy-       x-2       y-2\n",
       "0  3  1.0 -0.285714 -1.971429  0.563265  0.081633  3.886531\n",
       "1  4  3.0  0.714286  0.028571  0.020408  0.510204  0.000816\n",
       "2  1  5.0 -2.285714  2.028571 -4.636735  5.224490  4.115102\n",
       "3  2  4.0 -1.285714  1.028571 -1.322449  1.653061  1.057959\n",
       "4  4  2.0  0.714286 -0.971429 -0.693878  0.510204  0.943673\n",
       "5  6  3.2  2.714286  0.228571  0.620408  7.367347  0.052245\n",
       "6  3  2.6 -0.285714 -0.371429  0.106122  0.081633  0.137959"
      ]
     },
     "execution_count": 22,
     "metadata": {},
     "output_type": "execute_result"
    }
   ],
   "source": [
    "data[\"x-\"]=data['x']-x_mean\n",
    "data[\"y-\"]=data['y']-y_mean\n",
    "data[\"xy-\"]=data['x-']*data['y-']\n",
    "data['x-2']=data['x-']**2\n",
    "data['y-2']=data['y-']**2\n",
    "data"
   ]
  },
  {
   "cell_type": "code",
   "execution_count": 25,
   "id": "9efc7373-0995-4ab0-9970-c98086cc88df",
   "metadata": {
    "tags": []
   },
   "outputs": [
    {
     "data": {
      "text/plain": [
       "-0.4260222716215921"
      ]
     },
     "execution_count": 25,
     "metadata": {},
     "output_type": "execute_result"
    }
   ],
   "source": [
    "r=(data['xy-'].sum())/(data['x-2'].sum()*data['y-2'].sum())**0.5\n",
    "r"
   ]
  },
  {
   "cell_type": "code",
   "execution_count": 27,
   "id": "c61b6dcd-a3b6-480b-91f2-d8d388c8b767",
   "metadata": {
    "tags": []
   },
   "outputs": [
    {
     "data": {
      "text/plain": [
       "-0.34629629629629627"
      ]
     },
     "execution_count": 27,
     "metadata": {},
     "output_type": "execute_result"
    }
   ],
   "source": [
    "m=r*(y_std/x_std)\n",
    "m"
   ]
  },
  {
   "cell_type": "code",
   "execution_count": 29,
   "id": "9f08593c-5f31-4489-8a58-69807e0487a3",
   "metadata": {
    "tags": []
   },
   "outputs": [
    {
     "data": {
      "text/plain": [
       "4.109259259259259"
      ]
     },
     "execution_count": 29,
     "metadata": {},
     "output_type": "execute_result"
    }
   ],
   "source": [
    "c=y_mean-(m*x_mean)\n",
    "c"
   ]
  },
  {
   "cell_type": "code",
   "execution_count": 30,
   "id": "42fc4624-a4c8-47f8-90fd-22fa29988d8b",
   "metadata": {
    "tags": []
   },
   "outputs": [
    {
     "data": {
      "text/html": [
       "<div>\n",
       "<style scoped>\n",
       "    .dataframe tbody tr th:only-of-type {\n",
       "        vertical-align: middle;\n",
       "    }\n",
       "\n",
       "    .dataframe tbody tr th {\n",
       "        vertical-align: top;\n",
       "    }\n",
       "\n",
       "    .dataframe thead th {\n",
       "        text-align: right;\n",
       "    }\n",
       "</style>\n",
       "<table border=\"1\" class=\"dataframe\">\n",
       "  <thead>\n",
       "    <tr style=\"text-align: right;\">\n",
       "      <th></th>\n",
       "      <th>x</th>\n",
       "      <th>y</th>\n",
       "      <th>x-</th>\n",
       "      <th>y-</th>\n",
       "      <th>xy-</th>\n",
       "      <th>x-2</th>\n",
       "      <th>y-2</th>\n",
       "      <th>y-pre</th>\n",
       "    </tr>\n",
       "  </thead>\n",
       "  <tbody>\n",
       "    <tr>\n",
       "      <th>0</th>\n",
       "      <td>3</td>\n",
       "      <td>1.0</td>\n",
       "      <td>-0.285714</td>\n",
       "      <td>-1.971429</td>\n",
       "      <td>0.563265</td>\n",
       "      <td>0.081633</td>\n",
       "      <td>3.886531</td>\n",
       "      <td>3.070370</td>\n",
       "    </tr>\n",
       "    <tr>\n",
       "      <th>1</th>\n",
       "      <td>4</td>\n",
       "      <td>3.0</td>\n",
       "      <td>0.714286</td>\n",
       "      <td>0.028571</td>\n",
       "      <td>0.020408</td>\n",
       "      <td>0.510204</td>\n",
       "      <td>0.000816</td>\n",
       "      <td>2.724074</td>\n",
       "    </tr>\n",
       "    <tr>\n",
       "      <th>2</th>\n",
       "      <td>1</td>\n",
       "      <td>5.0</td>\n",
       "      <td>-2.285714</td>\n",
       "      <td>2.028571</td>\n",
       "      <td>-4.636735</td>\n",
       "      <td>5.224490</td>\n",
       "      <td>4.115102</td>\n",
       "      <td>3.762963</td>\n",
       "    </tr>\n",
       "    <tr>\n",
       "      <th>3</th>\n",
       "      <td>2</td>\n",
       "      <td>4.0</td>\n",
       "      <td>-1.285714</td>\n",
       "      <td>1.028571</td>\n",
       "      <td>-1.322449</td>\n",
       "      <td>1.653061</td>\n",
       "      <td>1.057959</td>\n",
       "      <td>3.416667</td>\n",
       "    </tr>\n",
       "    <tr>\n",
       "      <th>4</th>\n",
       "      <td>4</td>\n",
       "      <td>2.0</td>\n",
       "      <td>0.714286</td>\n",
       "      <td>-0.971429</td>\n",
       "      <td>-0.693878</td>\n",
       "      <td>0.510204</td>\n",
       "      <td>0.943673</td>\n",
       "      <td>2.724074</td>\n",
       "    </tr>\n",
       "    <tr>\n",
       "      <th>5</th>\n",
       "      <td>6</td>\n",
       "      <td>3.2</td>\n",
       "      <td>2.714286</td>\n",
       "      <td>0.228571</td>\n",
       "      <td>0.620408</td>\n",
       "      <td>7.367347</td>\n",
       "      <td>0.052245</td>\n",
       "      <td>2.031481</td>\n",
       "    </tr>\n",
       "    <tr>\n",
       "      <th>6</th>\n",
       "      <td>3</td>\n",
       "      <td>2.6</td>\n",
       "      <td>-0.285714</td>\n",
       "      <td>-0.371429</td>\n",
       "      <td>0.106122</td>\n",
       "      <td>0.081633</td>\n",
       "      <td>0.137959</td>\n",
       "      <td>3.070370</td>\n",
       "    </tr>\n",
       "  </tbody>\n",
       "</table>\n",
       "</div>"
      ],
      "text/plain": [
       "   x    y        x-        y-       xy-       x-2       y-2     y-pre\n",
       "0  3  1.0 -0.285714 -1.971429  0.563265  0.081633  3.886531  3.070370\n",
       "1  4  3.0  0.714286  0.028571  0.020408  0.510204  0.000816  2.724074\n",
       "2  1  5.0 -2.285714  2.028571 -4.636735  5.224490  4.115102  3.762963\n",
       "3  2  4.0 -1.285714  1.028571 -1.322449  1.653061  1.057959  3.416667\n",
       "4  4  2.0  0.714286 -0.971429 -0.693878  0.510204  0.943673  2.724074\n",
       "5  6  3.2  2.714286  0.228571  0.620408  7.367347  0.052245  2.031481\n",
       "6  3  2.6 -0.285714 -0.371429  0.106122  0.081633  0.137959  3.070370"
      ]
     },
     "execution_count": 30,
     "metadata": {},
     "output_type": "execute_result"
    }
   ],
   "source": [
    "data['y-pre']=m*data['x']+c\n",
    "data"
   ]
  },
  {
   "cell_type": "code",
   "execution_count": 32,
   "id": "bf56df77-c3e7-422b-838b-8e91320f971a",
   "metadata": {
    "tags": []
   },
   "outputs": [
    {
     "data": {
      "image/png": "[encoded data removed]",
      "text/plain": [
       "<Figure size 432x288 with 1 Axes>"
      ]
     },
     "metadata": {
      "needs_background": "light"
     },
     "output_type": "display_data"
    }
   ],
   "source": [
    "plot1=plt.scatter(x=data[\"x\"],y=data[\"y\"])\n",
    "plot2=plt.scatter(x=data[\"x\"],y=data[\"y-pre\"])\n",
    "plt.show()"
   ]
  },
  {
   "cell_type": "code",
   "execution_count": 48,
   "id": "b21788e9-3a6b-4395-9e85-b244eb8ee5ae",
   "metadata": {
    "tags": []
   },
   "outputs": [
    {
     "data": {
      "text/plain": [
       "1.1920105820105817"
      ]
     },
     "execution_count": 48,
     "metadata": {},
     "output_type": "execute_result"
    }
   ],
   "source": [
    "data['cost']=(data['y']-data['y-pre'])**2\n",
    "cost=data['cost'].sum()/7\n",
    "cost"
   ]
  },
  {
   "cell_type": "code",
   "execution_count": 50,
   "id": "71366c80-a4be-4c23-9868-49225f19afd9",
   "metadata": {
    "tags": []
   },
   "outputs": [
    {
     "data": {
      "text/plain": [
       "8.344074074074072"
      ]
     },
     "execution_count": 50,
     "metadata": {},
     "output_type": "execute_result"
    }
   ],
   "source": [
    "data['sse']=(data['y-pre']-data['y'])**2\n",
    "SSE=data['sse'].sum()\n",
    "SSE"
   ]
  },
  {
   "cell_type": "code",
   "execution_count": 47,
   "id": "a5e9a4f5-9c38-43f7-920a-e5af7063b007",
   "metadata": {
    "tags": []
   },
   "outputs": [
    {
     "data": {
      "text/plain": [
       "1.85021164021164"
      ]
     },
     "execution_count": 47,
     "metadata": {},
     "output_type": "execute_result"
    }
   ],
   "source": [
    "data['ssr']=(data['y-pre']-y_mean)**2\n",
    "SSR=data['ssr'].sum()\n",
    "SSR"
   ]
  },
  {
   "cell_type": "code",
   "execution_count": 51,
   "id": "02399467-615a-4e06-aa1b-3624e47cfe69",
   "metadata": {
    "tags": []
   },
   "outputs": [
    {
     "data": {
      "text/plain": [
       "10.194285714285712"
      ]
     },
     "execution_count": 51,
     "metadata": {},
     "output_type": "execute_result"
    }
   ],
   "source": [
    "sst=SSR+SSE\n",
    "sst"
   ]
  },
  {
   "cell_type": "code",
   "execution_count": 53,
   "id": "b08bdf41-549e-4fd5-a157-bdf2062e7779",
   "metadata": {
    "tags": []
   },
   "outputs": [
    {
     "data": {
      "text/plain": [
       "0.18149497591762168"
      ]
     },
     "execution_count": 53,
     "metadata": {},
     "output_type": "execute_result"
    }
   ],
   "source": [
    "r_sq=SSR/sst\n",
    "r_sq\n"
   ]
  },
  {
   "cell_type": "code",
   "execution_count": 54,
   "id": "f44aa0d4-8c4b-4bde-8724-8574af4850a1",
   "metadata": {},
   "outputs": [
    {
     "data": {
      "text/html": [
       "<div>\n",
       "<style scoped>\n",
       "    .dataframe tbody tr th:only-of-type {\n",
       "        vertical-align: middle;\n",
       "    }\n",
       "\n",
       "    .dataframe tbody tr th {\n",
       "        vertical-align: top;\n",
       "    }\n",
       "\n",
       "    .dataframe thead th {\n",
       "        text-align: right;\n",
       "    }\n",
       "</style>\n",
       "<table border=\"1\" class=\"dataframe\">\n",
       "  <thead>\n",
       "    <tr style=\"text-align: right;\">\n",
       "      <th></th>\n",
       "      <th>x</th>\n",
       "      <th>y</th>\n",
       "      <th>x-</th>\n",
       "      <th>y-</th>\n",
       "      <th>xy-</th>\n",
       "      <th>x-2</th>\n",
       "      <th>y-2</th>\n",
       "      <th>y-pre</th>\n",
       "      <th>cost</th>\n",
       "      <th>sse</th>\n",
       "      <th>ssr</th>\n",
       "    </tr>\n",
       "  </thead>\n",
       "  <tbody>\n",
       "    <tr>\n",
       "      <th>0</th>\n",
       "      <td>3</td>\n",
       "      <td>1.0</td>\n",
       "      <td>-0.285714</td>\n",
       "      <td>-1.971429</td>\n",
       "      <td>0.563265</td>\n",
       "      <td>0.081633</td>\n",
       "      <td>3.886531</td>\n",
       "      <td>3.070370</td>\n",
       "      <td>4.286433</td>\n",
       "      <td>4.286433</td>\n",
       "      <td>0.009789</td>\n",
       "    </tr>\n",
       "    <tr>\n",
       "      <th>1</th>\n",
       "      <td>4</td>\n",
       "      <td>3.0</td>\n",
       "      <td>0.714286</td>\n",
       "      <td>0.028571</td>\n",
       "      <td>0.020408</td>\n",
       "      <td>0.510204</td>\n",
       "      <td>0.000816</td>\n",
       "      <td>2.724074</td>\n",
       "      <td>0.076135</td>\n",
       "      <td>0.076135</td>\n",
       "      <td>0.061184</td>\n",
       "    </tr>\n",
       "    <tr>\n",
       "      <th>2</th>\n",
       "      <td>1</td>\n",
       "      <td>5.0</td>\n",
       "      <td>-2.285714</td>\n",
       "      <td>2.028571</td>\n",
       "      <td>-4.636735</td>\n",
       "      <td>5.224490</td>\n",
       "      <td>4.115102</td>\n",
       "      <td>3.762963</td>\n",
       "      <td>1.530261</td>\n",
       "      <td>1.530261</td>\n",
       "      <td>0.626527</td>\n",
       "    </tr>\n",
       "    <tr>\n",
       "      <th>3</th>\n",
       "      <td>2</td>\n",
       "      <td>4.0</td>\n",
       "      <td>-1.285714</td>\n",
       "      <td>1.028571</td>\n",
       "      <td>-1.322449</td>\n",
       "      <td>1.653061</td>\n",
       "      <td>1.057959</td>\n",
       "      <td>3.416667</td>\n",
       "      <td>0.340278</td>\n",
       "      <td>0.340278</td>\n",
       "      <td>0.198237</td>\n",
       "    </tr>\n",
       "    <tr>\n",
       "      <th>4</th>\n",
       "      <td>4</td>\n",
       "      <td>2.0</td>\n",
       "      <td>0.714286</td>\n",
       "      <td>-0.971429</td>\n",
       "      <td>-0.693878</td>\n",
       "      <td>0.510204</td>\n",
       "      <td>0.943673</td>\n",
       "      <td>2.724074</td>\n",
       "      <td>0.524283</td>\n",
       "      <td>0.524283</td>\n",
       "      <td>0.061184</td>\n",
       "    </tr>\n",
       "    <tr>\n",
       "      <th>5</th>\n",
       "      <td>6</td>\n",
       "      <td>3.2</td>\n",
       "      <td>2.714286</td>\n",
       "      <td>0.228571</td>\n",
       "      <td>0.620408</td>\n",
       "      <td>7.367347</td>\n",
       "      <td>0.052245</td>\n",
       "      <td>2.031481</td>\n",
       "      <td>1.365436</td>\n",
       "      <td>1.365436</td>\n",
       "      <td>0.883501</td>\n",
       "    </tr>\n",
       "    <tr>\n",
       "      <th>6</th>\n",
       "      <td>3</td>\n",
       "      <td>2.6</td>\n",
       "      <td>-0.285714</td>\n",
       "      <td>-0.371429</td>\n",
       "      <td>0.106122</td>\n",
       "      <td>0.081633</td>\n",
       "      <td>0.137959</td>\n",
       "      <td>3.070370</td>\n",
       "      <td>0.221248</td>\n",
       "      <td>0.221248</td>\n",
       "      <td>0.009789</td>\n",
       "    </tr>\n",
       "  </tbody>\n",
       "</table>\n",
       "</div>"
      ],
      "text/plain": [
       "   x    y        x-        y-       xy-       x-2       y-2     y-pre  \\\n",
       "0  3  1.0 -0.285714 -1.971429  0.563265  0.081633  3.886531  3.070370   \n",
       "1  4  3.0  0.714286  0.028571  0.020408  0.510204  0.000816  2.724074   \n",
       "2  1  5.0 -2.285714  2.028571 -4.636735  5.224490  4.115102  3.762963   \n",
       "3  2  4.0 -1.285714  1.028571 -1.322449  1.653061  1.057959  3.416667   \n",
       "4  4  2.0  0.714286 -0.971429 -0.693878  0.510204  0.943673  2.724074   \n",
       "5  6  3.2  2.714286  0.228571  0.620408  7.367347  0.052245  2.031481   \n",
       "6  3  2.6 -0.285714 -0.371429  0.106122  0.081633  0.137959  3.070370   \n",
       "\n",
       "       cost       sse       ssr  \n",
       "0  4.286433  4.286433  0.009789  \n",
       "1  0.076135  0.076135  0.061184  \n",
       "2  1.530261  1.530261  0.626527  \n",
       "3  0.340278  0.340278  0.198237  \n",
       "4  0.524283  0.524283  0.061184  \n",
       "5  1.365436  1.365436  0.883501  \n",
       "6  0.221248  0.221248  0.009789  "
      ]
     },
     "execution_count": 54,
     "metadata": {},
     "output_type": "execute_result"
    }
   ],
   "source": [
    "data"
   ]
  },
  {
   "cell_type": "code",
   "execution_count": null,
   "id": "0287daa6-7936-42cf-8577-1f4917d5ab7e",
   "metadata": {},
   "outputs": [],
   "source": []
  }
 ],
 "metadata": {
  "kernelspec": {
   "display_name": "Python 3 (ipykernel)",
   "language": "python",
   "name": "python3"
  },
  "language_info": {
   "codemirror_mode": {
    "name": "ipython",
    "version": 3
   },
   "file_extension": ".py",
   "mimetype": "text/x-python",
   "name": "python",
   "nbconvert_exporter": "python",
   "pygments_lexer": "ipython3",
   "version": "3.9.4"
  }
 },
 "nbformat": 4,
 "nbformat_minor": 5
}
