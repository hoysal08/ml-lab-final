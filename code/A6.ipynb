{
 "cells": [
  {
   "cell_type": "code",
   "execution_count": 64,
   "id": "efa6b05c-7ec0-4e2f-8a90-0a4076e63778",
   "metadata": {},
   "outputs": [],
   "source": [
    "import pandas as pd\n",
    "import numpy as np\n",
    "from sklearn.model_selection import train_test_split\n",
    "from sklearn.model_selection import KFold\n",
    "from sklearn import preprocessing"
   ]
  },
  {
   "cell_type": "code",
   "execution_count": 65,
   "id": "a59beb3d-055f-4999-abbe-a317b9b8d5e5",
   "metadata": {
    "tags": []
   },
   "outputs": [
    {
     "data": {
      "text/html": [
       "<div>\n",
       "<style scoped>\n",
       "    .dataframe tbody tr th:only-of-type {\n",
       "        vertical-align: middle;\n",
       "    }\n",
       "\n",
       "    .dataframe tbody tr th {\n",
       "        vertical-align: top;\n",
       "    }\n",
       "\n",
       "    .dataframe thead th {\n",
       "        text-align: right;\n",
       "    }\n",
       "</style>\n",
       "<table border=\"1\" class=\"dataframe\">\n",
       "  <thead>\n",
       "    <tr style=\"text-align: right;\">\n",
       "      <th></th>\n",
       "      <th>34.62365962</th>\n",
       "      <th>78.02469282</th>\n",
       "      <th>0</th>\n",
       "    </tr>\n",
       "  </thead>\n",
       "  <tbody>\n",
       "    <tr>\n",
       "      <th>0</th>\n",
       "      <td>30.286711</td>\n",
       "      <td>43.894998</td>\n",
       "      <td>0</td>\n",
       "    </tr>\n",
       "    <tr>\n",
       "      <th>1</th>\n",
       "      <td>35.847409</td>\n",
       "      <td>72.902198</td>\n",
       "      <td>0</td>\n",
       "    </tr>\n",
       "    <tr>\n",
       "      <th>2</th>\n",
       "      <td>60.182599</td>\n",
       "      <td>86.308552</td>\n",
       "      <td>1</td>\n",
       "    </tr>\n",
       "    <tr>\n",
       "      <th>3</th>\n",
       "      <td>79.032736</td>\n",
       "      <td>75.344376</td>\n",
       "      <td>1</td>\n",
       "    </tr>\n",
       "    <tr>\n",
       "      <th>4</th>\n",
       "      <td>45.083277</td>\n",
       "      <td>56.316372</td>\n",
       "      <td>0</td>\n",
       "    </tr>\n",
       "  </tbody>\n",
       "</table>\n",
       "</div>"
      ],
      "text/plain": [
       "   34.62365962  78.02469282  0\n",
       "0    30.286711    43.894998  0\n",
       "1    35.847409    72.902198  0\n",
       "2    60.182599    86.308552  1\n",
       "3    79.032736    75.344376  1\n",
       "4    45.083277    56.316372  0"
      ]
     },
     "execution_count": 65,
     "metadata": {},
     "output_type": "execute_result"
    }
   ],
   "source": [
    "data=pd.read_csv(\"../A6_Student-University(For Logistic Regression Program) (2).csv\")\n",
    "data.head()"
   ]
  },
  {
   "cell_type": "code",
   "execution_count": 66,
   "id": "fe503d2d-1cdc-4677-8d27-d7e0d5fe7546",
   "metadata": {
    "tags": []
   },
   "outputs": [],
   "source": [
    "x=data.iloc[:,[0,1]].values\n",
    "y=data.iloc[:,2].values"
   ]
  },
  {
   "cell_type": "code",
   "execution_count": 67,
   "id": "2f0c60ea-c3e1-49c7-ab8f-cad56a6bc226",
   "metadata": {
    "tags": []
   },
   "outputs": [
    {
     "data": {
      "text/plain": [
       "array([[-1.85744578, -1.19754001],\n",
       "       [-1.56789059,  0.3666542 ],\n",
       "       [-0.30071501,  1.08958303],\n",
       "       [ 0.6808443 ,  0.49834707],\n",
       "       [-1.08696289, -0.52772557],\n",
       "       [-0.25259733,  1.63976628],\n",
       "       [ 0.47214129, -1.05415432],\n",
       "       [ 0.52806847,  1.14954784],\n",
       "       [ 0.96203604, -1.21703927],\n",
       "       [ 1.5571501 , -1.5032759 ],\n",
       "       [ 0.47156396, -1.91428803],\n",
       "       [ 0.85134368,  0.55969069],\n",
       "       [ 0.17740711,  1.70486731],\n",
       "       [-1.37569744,  0.53568614],\n",
       "       [-0.62416104,  1.2458988 ],\n",
       "       [ 0.16207486, -0.72055373],\n",
       "       [ 0.10358327, -1.04743747],\n",
       "       [ 0.24494002,  1.44648591],\n",
       "       [ 0.57389144, -0.99904633],\n",
       "       [ 0.07365099, -1.25451426],\n",
       "       [ 1.23509791, -0.01636135],\n",
       "       [-0.80309326, -0.93003137],\n",
       "       [-1.65304598, -1.18057912],\n",
       "       [ 0.62311526,  0.15474027],\n",
       "       [-0.19196765,  0.20769926],\n",
       "       [ 0.74111446, -1.14757202],\n",
       "       [ 1.41410038, -1.47224825],\n",
       "       [-0.21492127, -0.85452131],\n",
       "       [-1.41488326, -0.05969953],\n",
       "       [-0.23840128,  0.36156856],\n",
       "       [ 1.01263411, -0.48805817],\n",
       "       [-0.72117446, -0.16043329],\n",
       "       [-0.72443284,  0.17957244],\n",
       "       [-1.33932249,  0.27312513],\n",
       "       [-0.58958263, -0.74894942],\n",
       "       [-1.66848842,  1.76692041],\n",
       "       [-0.09272022,  0.79836507],\n",
       "       [ 0.45987878, -1.3227298 ],\n",
       "       [-1.65452591,  0.49259571],\n",
       "       [ 0.93441582, -0.52817452],\n",
       "       [-0.75034814, -1.03785424],\n",
       "       [ 1.48330262, -0.02878791],\n",
       "       [ 0.85455653, -1.37423618],\n",
       "       [-0.77638236, -1.09358984],\n",
       "       [-0.19448469, -0.75719413],\n",
       "       [ 0.58504787,  0.23486322],\n",
       "       [ 1.65660941,  1.1121919 ],\n",
       "       [-0.20227525,  1.65364631],\n",
       "       [ 1.33341969,  1.21834036],\n",
       "       [ 0.72833799,  0.43464855],\n",
       "       [ 1.73476532, -0.27521625],\n",
       "       [ 1.28039711, -1.22473921],\n",
       "       [-1.63677602, -0.30771583],\n",
       "       [-0.81602227, -0.87887188],\n",
       "       [-0.85246305, -0.33939053],\n",
       "       [ 1.65005018,  0.14876614],\n",
       "       [-1.73817602,  1.59053992],\n",
       "       [ 0.4317308 ,  0.2006952 ],\n",
       "       [ 0.30403897,  0.66600787],\n",
       "       [ 0.49145292,  1.0599993 ],\n",
       "       [-1.59711824, -1.02899859],\n",
       "       [-0.50529349, -1.44739979],\n",
       "       [-1.86931232, -0.89028038],\n",
       "       [-1.10857348,  0.01872831],\n",
       "       [ 0.03141388, -1.34868451],\n",
       "       [-1.32783249,  1.69497185],\n",
       "       [-0.87923386, -0.7667808 ],\n",
       "       [ 0.74576932,  1.40274911],\n",
       "       [ 0.04109006, -0.27562807],\n",
       "       [-1.73059266, -1.22923805],\n",
       "       [-0.09988885,  0.64325857],\n",
       "       [ 0.3326801 ,  1.62446078],\n",
       "       [-0.28638037,  0.37705082],\n",
       "       [-0.37057669,  0.52606805],\n",
       "       [ 1.76368236,  0.33791543],\n",
       "       [-0.97339487,  1.20645395],\n",
       "       [-0.80708344,  0.52344793],\n",
       "       [-0.28650167, -1.27231086],\n",
       "       [ 0.84715754, -1.26090752],\n",
       "       [ 1.19537346,  0.19957453],\n",
       "       [ 1.50366991, -1.10051344],\n",
       "       [ 0.07090316,  0.0262382 ],\n",
       "       [-0.45400862, -0.35528037],\n",
       "       [ 0.75030904,  1.34041727],\n",
       "       [ 0.13074734,  1.05106783],\n",
       "       [-1.24358544,  0.68710435],\n",
       "       [ 0.49572751,  1.31153491],\n",
       "       [ 0.66015559,  1.64710006],\n",
       "       [-0.70867598, -0.28759328],\n",
       "       [ 1.46512768,  0.59620511],\n",
       "       [ 1.27528558,  1.15430516],\n",
       "       [-0.54547498, -1.64642209],\n",
       "       [ 0.44443636,  1.01066932],\n",
       "       [ 1.24389965, -1.11863327],\n",
       "       [ 0.91289817, -0.95567379],\n",
       "       [-1.23388728,  1.13246899],\n",
       "       [ 1.73697742,  0.14411984],\n",
       "       [-0.55287664, -0.06313683],\n",
       "       [ 0.4591831 ,  1.2632874 ]])"
      ]
     },
     "execution_count": 67,
     "metadata": {},
     "output_type": "execute_result"
    }
   ],
   "source": [
    "p=preprocessing.scale(x)\n",
    "p"
   ]
  },
  {
   "cell_type": "code",
   "execution_count": 68,
   "id": "4cf76fbf-fea0-498b-9490-ee21fc6a2857",
   "metadata": {
    "tags": []
   },
   "outputs": [],
   "source": [
    "kf=KFold(n_splits=5)"
   ]
  },
  {
   "cell_type": "code",
   "execution_count": 69,
   "id": "7d04e714-3aa0-4087-9182-5d22795ac8bf",
   "metadata": {
    "tags": []
   },
   "outputs": [],
   "source": [
    "for train_index,test_index in kf.split(p):\n",
    "    x_train,x_test,y_train,y_test=train_test_split(p,y,test_size=0.1)\n",
    "    x1=x_train[:,0]\n",
    "    x2=x_train[:,1]\n",
    "    b0=0\n",
    "    b1=0\n",
    "    b2=0\n",
    "    alpha=0.003\n",
    "    epoch=1000\n",
    "    while(epoch>1):\n",
    "        for i in range(len(x_train)):\n",
    "            predection=1/(1+np.exp(-(b0+b1*x1[i]+b2*x2[i])))\n",
    "            b0=b0+alpha*(y_train[i]-predection)*(predection)*(1-predection)*1.0\n",
    "            b1=b1+alpha*(y_train[i]-predection)*(predection)*(1-predection)*x1[i]\n",
    "            b2=b2+alpha*(y_train[i]-predection)*(predection)*(1-predection)*x2[i]\n",
    "            epoch-=1"
   ]
  },
  {
   "cell_type": "code",
   "execution_count": 70,
   "id": "f5942d75-21cd-4a86-9866-e31bc450c789",
   "metadata": {
    "tags": []
   },
   "outputs": [],
   "source": [
    "final_pre=[]\n",
    "x3=x_test[:,0]\n",
    "x4=x_test[:,1]"
   ]
  },
  {
   "cell_type": "code",
   "execution_count": 71,
   "id": "28ca4f36-a447-4da1-b704-e9350e4fca28",
   "metadata": {
    "tags": []
   },
   "outputs": [
    {
     "data": {
      "text/plain": [
       "array([1, 1, 1, 1, 1, 1, 0, 1, 1, 1], dtype=int64)"
      ]
     },
     "execution_count": 71,
     "metadata": {},
     "output_type": "execute_result"
    }
   ],
   "source": [
    "y_test"
   ]
  },
  {
   "cell_type": "code",
   "execution_count": 72,
   "id": "6393b86f-5d03-411b-8c6d-ae63dd87dfdf",
   "metadata": {
    "tags": []
   },
   "outputs": [],
   "source": [
    "y_pred=[0]*len(x_test)"
   ]
  },
  {
   "cell_type": "code",
   "execution_count": 73,
   "id": "bf272d9d-cffb-4053-be49-2894f573921a",
   "metadata": {
    "tags": []
   },
   "outputs": [],
   "source": [
    "for i in range(len(x_test)):\n",
    "    y_pred[i]=1/(1+np.exp(-(b0+b1*x3[i]+b2*x4[i])))\n",
    "    final_pre.append(np.ceil(y_pred[i]))"
   ]
  },
  {
   "cell_type": "code",
   "execution_count": 74,
   "id": "cd5e0c3e-d90d-4070-8f7f-a87d9a235636",
   "metadata": {
    "tags": []
   },
   "outputs": [
    {
     "data": {
      "text/plain": [
       "[0.519749996682649,\n",
       " 0.5057099973804068,\n",
       " 0.6419346491173162,\n",
       " 0.5681584369787662,\n",
       " 0.5192129536875336,\n",
       " 0.584614253617138,\n",
       " 0.38036452643206975,\n",
       " 0.5527353759294465,\n",
       " 0.5491391879110068,\n",
       " 0.6034695417581345]"
      ]
     },
     "execution_count": 74,
     "metadata": {},
     "output_type": "execute_result"
    }
   ],
   "source": [
    "y_pred"
   ]
  },
  {
   "cell_type": "code",
   "execution_count": 75,
   "id": "6635561b-50fa-4063-b436-fa3f8c4e54ff",
   "metadata": {
    "tags": []
   },
   "outputs": [
    {
     "name": "stdout",
     "output_type": "stream",
     "text": [
      "[1.0, 1.0, 1.0, 1.0, 1.0, 1.0, 1.0, 1.0, 1.0, 1.0]\n"
     ]
    }
   ],
   "source": [
    "print(final_pre)"
   ]
  },
  {
   "cell_type": "code",
   "execution_count": 76,
   "id": "9150a5d6-5adb-4296-a794-6fe32766cdaa",
   "metadata": {
    "tags": []
   },
   "outputs": [
    {
     "name": "stdout",
     "output_type": "stream",
     "text": [
      "0.05387798406875479\n",
      "0.19536102602223165\n",
      "0.1854500953921567\n"
     ]
    }
   ],
   "source": [
    "print(b0)\n",
    "print(b1)\n",
    "print(b2)"
   ]
  },
  {
   "cell_type": "code",
   "execution_count": 78,
   "id": "93746cee-fde3-406c-8917-74a28bdc9348",
   "metadata": {
    "tags": []
   },
   "outputs": [
    {
     "data": {
      "text/plain": [
       "0.9"
      ]
     },
     "execution_count": 78,
     "metadata": {},
     "output_type": "execute_result"
    }
   ],
   "source": [
    "from sklearn.metrics import accuracy_score\n",
    "accuracy_score(y_test,final_pre)"
   ]
  }
 ],
 "metadata": {
  "kernelspec": {
   "display_name": "Python 3 (ipykernel)",
   "language": "python",
   "name": "python3"
  },
  "language_info": {
   "codemirror_mode": {
    "name": "ipython",
    "version": 3
   },
   "file_extension": ".py",
   "mimetype": "text/x-python",
   "name": "python",
   "nbconvert_exporter": "python",
   "pygments_lexer": "ipython3",
   "version": "3.9.4"
  }
 },
 "nbformat": 4,
 "nbformat_minor": 5
}
